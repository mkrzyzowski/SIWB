{
 "cells": [
  {
   "cell_type": "markdown",
   "metadata": {},
   "source": [
    "# Systemy Inteligentne w biznesie\n",
    "## Laboratorium: Czyszczenie danych i przygotowanie zbioru do analizy\n",
    "## _autor: Mariusz Krzyżowski_"
   ]
  },
  {
   "cell_type": "markdown",
   "metadata": {},
   "source": [
    "\n",
    "\n",
    "## 1. Wprowadzenie\n",
    "Każdy, kto choć trochę miał wspólnego z analizą danych, ma świadomość, że dane przekazane do analizy rzadko kiedy przychodzą w postaci łatwej i przyjemnej do ich obróbki: bardzo często pojawiają się w nich wartości brakujące, puste czy wręcz błędne (np. pod względem typu danych). Osoby gromadzące dane mogą niektórych z nich nie posiadać, innych przez pomyłkę nie przekazać, a przy wprowadzaniu kolejnych wręcz się pomylić (np. przesuwając przypadkowo przecinek lub wykonując literówki). Uważa się, że wstępne przygotowanie danych oraz usunięcie wszelkich niedoskonałości tak, aby analiza danych była skuteczna i dostarczała odpowiednich danych, może zająć nawet do 80% czasu pracy nad zbiorem.  \n",
    "Celem laboratorium jest wykonanie czyszczenia danych znajdujących się w przekazanym zbiorze oraz przygotowanie ich do analizy, z wykorzystaniem ich modyfikacji, ujednolicania czy rozdzielania. W tym celu zostanie wykorzystana biblioteka `pandas` języka Python.  \n",
    "Wykonana praca nad zbiorem składa się z kilku etapów, każdy z nich został umieszczony w oddzielnym rozdziale."
   ]
  },
  {
   "cell_type": "markdown",
   "metadata": {},
   "source": [
    "## 2. Załadowanie danych\n",
    "Na wstępie importowane są niezbędne biblioteki: `pandas` oraz `numpy` umożliwiające pracę nad zbiorami danych. Następnie przekazane dane zostają wczytane. Warto zwrócić uwagę na dodatkowe parametry:\n",
    "* `sep = \"\\t\"` oznacza, że seperatorem w pliku jest tabulator\n",
    "* `index_col=\"PassengerId\"` oznacza, że kolumną indeksującą jest PassengerId - nie jest wówczas tworzona dodatkowa kolumna z indeksem"
   ]
  },
  {
   "cell_type": "code",
   "execution_count": 275,
   "metadata": {},
   "outputs": [],
   "source": [
    "import pandas as pd\n",
    "import numpy as np\n",
    "\n",
    "titanic = pd.read_csv(\"TitanicMess.tsv\", sep=\"\\t\", index_col=\"PassengerId\")"
   ]
  },
  {
   "cell_type": "markdown",
   "metadata": {},
   "source": [
    "## 3. Wyświetlenie próbki danych\n",
    "Aby mieć świadomość, z jakimi danymi mamy do czynienia, wyświetlonych zostanie pierwszych dziesięć rekordów znajdujących się w zbiorze."
   ]
  },
  {
   "cell_type": "code",
   "execution_count": 276,
   "metadata": {},
   "outputs": [
    {
     "data": {
      "text/html": [
       "<div>\n",
       "<style scoped>\n",
       "    .dataframe tbody tr th:only-of-type {\n",
       "        vertical-align: middle;\n",
       "    }\n",
       "\n",
       "    .dataframe tbody tr th {\n",
       "        vertical-align: top;\n",
       "    }\n",
       "\n",
       "    .dataframe thead th {\n",
       "        text-align: right;\n",
       "    }\n",
       "</style>\n",
       "<table border=\"1\" class=\"dataframe\">\n",
       "  <thead>\n",
       "    <tr style=\"text-align: right;\">\n",
       "      <th></th>\n",
       "      <th>Survived</th>\n",
       "      <th>Pclass</th>\n",
       "      <th>Name</th>\n",
       "      <th>Sex</th>\n",
       "      <th>Age</th>\n",
       "      <th>SibSp</th>\n",
       "      <th>Parch</th>\n",
       "      <th>Ticket</th>\n",
       "      <th>Fare</th>\n",
       "      <th>Cabin</th>\n",
       "      <th>Embarked</th>\n",
       "      <th>ship</th>\n",
       "    </tr>\n",
       "    <tr>\n",
       "      <th>PassengerId</th>\n",
       "      <th></th>\n",
       "      <th></th>\n",
       "      <th></th>\n",
       "      <th></th>\n",
       "      <th></th>\n",
       "      <th></th>\n",
       "      <th></th>\n",
       "      <th></th>\n",
       "      <th></th>\n",
       "      <th></th>\n",
       "      <th></th>\n",
       "      <th></th>\n",
       "    </tr>\n",
       "  </thead>\n",
       "  <tbody>\n",
       "    <tr>\n",
       "      <th>1</th>\n",
       "      <td>0</td>\n",
       "      <td>3</td>\n",
       "      <td>Braund, Mr. Owen Harris</td>\n",
       "      <td>male</td>\n",
       "      <td>22</td>\n",
       "      <td>1</td>\n",
       "      <td>0</td>\n",
       "      <td>A/5 21171</td>\n",
       "      <td>7,25</td>\n",
       "      <td>NaN</td>\n",
       "      <td>S</td>\n",
       "      <td>Titanic</td>\n",
       "    </tr>\n",
       "    <tr>\n",
       "      <th>2</th>\n",
       "      <td>1</td>\n",
       "      <td>1</td>\n",
       "      <td>Cumings, Mrs. John Bradley (Florence Briggs Th...</td>\n",
       "      <td>female</td>\n",
       "      <td>38</td>\n",
       "      <td>1</td>\n",
       "      <td>0</td>\n",
       "      <td>PC 17599</td>\n",
       "      <td>71,2833</td>\n",
       "      <td>C85</td>\n",
       "      <td>C</td>\n",
       "      <td>Titanic</td>\n",
       "    </tr>\n",
       "    <tr>\n",
       "      <th>3</th>\n",
       "      <td>1</td>\n",
       "      <td>3</td>\n",
       "      <td>Heikkinen, Miss. Laina</td>\n",
       "      <td>female</td>\n",
       "      <td>26</td>\n",
       "      <td>0</td>\n",
       "      <td>0</td>\n",
       "      <td>STON/O2. 3101282</td>\n",
       "      <td>7,925</td>\n",
       "      <td>NaN</td>\n",
       "      <td>S</td>\n",
       "      <td>Titanic</td>\n",
       "    </tr>\n",
       "    <tr>\n",
       "      <th>4</th>\n",
       "      <td>1</td>\n",
       "      <td>1</td>\n",
       "      <td>Futrelle, Mrs. Jacques Heath (Lily May Peel)</td>\n",
       "      <td>female</td>\n",
       "      <td>35</td>\n",
       "      <td>1</td>\n",
       "      <td>0</td>\n",
       "      <td>113803</td>\n",
       "      <td>53,1</td>\n",
       "      <td>C123</td>\n",
       "      <td>S</td>\n",
       "      <td>Titanic</td>\n",
       "    </tr>\n",
       "    <tr>\n",
       "      <th>5</th>\n",
       "      <td>0</td>\n",
       "      <td>3</td>\n",
       "      <td>Allen, Mr. William Henry</td>\n",
       "      <td>male</td>\n",
       "      <td>35</td>\n",
       "      <td>0</td>\n",
       "      <td>0</td>\n",
       "      <td>373450</td>\n",
       "      <td>8,05</td>\n",
       "      <td>NaN</td>\n",
       "      <td>S</td>\n",
       "      <td>Titanic</td>\n",
       "    </tr>\n",
       "    <tr>\n",
       "      <th>6</th>\n",
       "      <td>0</td>\n",
       "      <td>3</td>\n",
       "      <td>Moran, Mr. James</td>\n",
       "      <td>male</td>\n",
       "      <td>NaN</td>\n",
       "      <td>0</td>\n",
       "      <td>0</td>\n",
       "      <td>330877</td>\n",
       "      <td>8,4583</td>\n",
       "      <td>NaN</td>\n",
       "      <td>Q</td>\n",
       "      <td>Titanic</td>\n",
       "    </tr>\n",
       "    <tr>\n",
       "      <th>7</th>\n",
       "      <td>0</td>\n",
       "      <td>1</td>\n",
       "      <td>McCarthy, Mr. Timothy J</td>\n",
       "      <td>male</td>\n",
       "      <td>54</td>\n",
       "      <td>0</td>\n",
       "      <td>0</td>\n",
       "      <td>17463</td>\n",
       "      <td>51,8625</td>\n",
       "      <td>E46</td>\n",
       "      <td>S</td>\n",
       "      <td>Titanic</td>\n",
       "    </tr>\n",
       "    <tr>\n",
       "      <th>8</th>\n",
       "      <td>0</td>\n",
       "      <td>3</td>\n",
       "      <td>Palsson, Master. Gosta Leonard</td>\n",
       "      <td>male</td>\n",
       "      <td>2</td>\n",
       "      <td>3</td>\n",
       "      <td>1</td>\n",
       "      <td>349909</td>\n",
       "      <td>21,075</td>\n",
       "      <td>NaN</td>\n",
       "      <td>S</td>\n",
       "      <td>Titanic</td>\n",
       "    </tr>\n",
       "    <tr>\n",
       "      <th>9</th>\n",
       "      <td>1</td>\n",
       "      <td>3</td>\n",
       "      <td>Johnson, Mrs. Oscar W (Elisabeth Vilhelmina Berg)</td>\n",
       "      <td>female</td>\n",
       "      <td>27</td>\n",
       "      <td>0</td>\n",
       "      <td>2</td>\n",
       "      <td>347742</td>\n",
       "      <td>11,1333</td>\n",
       "      <td>NaN</td>\n",
       "      <td>S</td>\n",
       "      <td>Titanic</td>\n",
       "    </tr>\n",
       "    <tr>\n",
       "      <th>10</th>\n",
       "      <td>1</td>\n",
       "      <td>2</td>\n",
       "      <td>Nasser, Mrs. Nicholas (Adele Achem)</td>\n",
       "      <td>female</td>\n",
       "      <td>14</td>\n",
       "      <td>1</td>\n",
       "      <td>0</td>\n",
       "      <td>237736</td>\n",
       "      <td>30,0708</td>\n",
       "      <td>NaN</td>\n",
       "      <td>C</td>\n",
       "      <td>Titanic</td>\n",
       "    </tr>\n",
       "  </tbody>\n",
       "</table>\n",
       "</div>"
      ],
      "text/plain": [
       "             Survived  Pclass  \\\n",
       "PassengerId                     \n",
       "1                   0       3   \n",
       "2                   1       1   \n",
       "3                   1       3   \n",
       "4                   1       1   \n",
       "5                   0       3   \n",
       "6                   0       3   \n",
       "7                   0       1   \n",
       "8                   0       3   \n",
       "9                   1       3   \n",
       "10                  1       2   \n",
       "\n",
       "                                                          Name     Sex  Age  \\\n",
       "PassengerId                                                                   \n",
       "1                                      Braund, Mr. Owen Harris    male   22   \n",
       "2            Cumings, Mrs. John Bradley (Florence Briggs Th...  female   38   \n",
       "3                                       Heikkinen, Miss. Laina  female   26   \n",
       "4                 Futrelle, Mrs. Jacques Heath (Lily May Peel)  female   35   \n",
       "5                                     Allen, Mr. William Henry    male   35   \n",
       "6                                             Moran, Mr. James    male  NaN   \n",
       "7                                      McCarthy, Mr. Timothy J    male   54   \n",
       "8                               Palsson, Master. Gosta Leonard    male    2   \n",
       "9            Johnson, Mrs. Oscar W (Elisabeth Vilhelmina Berg)  female   27   \n",
       "10                         Nasser, Mrs. Nicholas (Adele Achem)  female   14   \n",
       "\n",
       "             SibSp  Parch            Ticket     Fare Cabin Embarked     ship  \n",
       "PassengerId                                                                   \n",
       "1                1      0         A/5 21171     7,25   NaN        S  Titanic  \n",
       "2                1      0          PC 17599  71,2833   C85        C  Titanic  \n",
       "3                0      0  STON/O2. 3101282    7,925   NaN        S  Titanic  \n",
       "4                1      0            113803     53,1  C123        S  Titanic  \n",
       "5                0      0            373450     8,05   NaN        S  Titanic  \n",
       "6                0      0            330877   8,4583   NaN        Q  Titanic  \n",
       "7                0      0             17463  51,8625   E46        S  Titanic  \n",
       "8                3      1            349909   21,075   NaN        S  Titanic  \n",
       "9                0      2            347742  11,1333   NaN        S  Titanic  \n",
       "10               1      0            237736  30,0708   NaN        C  Titanic  "
      ]
     },
     "execution_count": 276,
     "metadata": {},
     "output_type": "execute_result"
    }
   ],
   "source": [
    "titanic.head(10)"
   ]
  },
  {
   "cell_type": "markdown",
   "metadata": {},
   "source": [
    "## 4. Wyświetlenie podstawowych informacji o danych w celu poznania ich charakteru oraz diagnozy problemów do rozwiązania podczas czyszczenia\n",
    "Praca ze zbiorem danych została rozpoczęta od kilku wstępnych kroków, dzięki którym zapoznano się m.in. z ich liczbą, typami danych, liczbą brakujących wartości."
   ]
  },
  {
   "cell_type": "markdown",
   "metadata": {},
   "source": [
    "### a. wyświetlenie liczby wierszy i kolumn"
   ]
  },
  {
   "cell_type": "code",
   "execution_count": 277,
   "metadata": {},
   "outputs": [
    {
     "data": {
      "text/plain": [
       "(892, 12)"
      ]
     },
     "execution_count": 277,
     "metadata": {},
     "output_type": "execute_result"
    }
   ],
   "source": [
    "titanic.shape"
   ]
  },
  {
   "cell_type": "markdown",
   "metadata": {},
   "source": [
    "### b. wyświetlenie nazw kolumn oraz liczby pustych wartości w kolumnach"
   ]
  },
  {
   "cell_type": "code",
   "execution_count": 278,
   "metadata": {
    "scrolled": true
   },
   "outputs": [
    {
     "data": {
      "text/plain": [
       "['Survived',\n",
       " 'Pclass',\n",
       " 'Name',\n",
       " 'Sex',\n",
       " 'Age',\n",
       " 'SibSp',\n",
       " 'Parch',\n",
       " 'Ticket',\n",
       " 'Fare',\n",
       " 'Cabin',\n",
       " 'Embarked',\n",
       " 'ship']"
      ]
     },
     "execution_count": 278,
     "metadata": {},
     "output_type": "execute_result"
    }
   ],
   "source": [
    "titanic.columns.tolist()"
   ]
  },
  {
   "cell_type": "code",
   "execution_count": 279,
   "metadata": {},
   "outputs": [
    {
     "data": {
      "text/plain": [
       "Survived    892\n",
       "Pclass      892\n",
       "Name        892\n",
       "Sex         892\n",
       "Age         892\n",
       "SibSp       892\n",
       "Parch       892\n",
       "Ticket      892\n",
       "Fare        892\n",
       "Cabin       892\n",
       "Embarked    892\n",
       "ship        892\n",
       "dtype: int64"
      ]
     },
     "execution_count": 279,
     "metadata": {},
     "output_type": "execute_result"
    }
   ],
   "source": [
    "titanic.isnull().count()"
   ]
  },
  {
   "cell_type": "markdown",
   "metadata": {},
   "source": [
    "### c. wyświetlenie podstawowych informacji o danych"
   ]
  },
  {
   "cell_type": "code",
   "execution_count": 280,
   "metadata": {},
   "outputs": [
    {
     "name": "stdout",
     "output_type": "stream",
     "text": [
      "<class 'pandas.core.frame.DataFrame'>\n",
      "Int64Index: 892 entries, 1 to 1000\n",
      "Data columns (total 12 columns):\n",
      " #   Column    Non-Null Count  Dtype \n",
      "---  ------    --------------  ----- \n",
      " 0   Survived  892 non-null    int64 \n",
      " 1   Pclass    892 non-null    int64 \n",
      " 2   Name      892 non-null    object\n",
      " 3   Sex       892 non-null    object\n",
      " 4   Age       719 non-null    object\n",
      " 5   SibSp     892 non-null    int64 \n",
      " 6   Parch     892 non-null    int64 \n",
      " 7   Ticket    892 non-null    object\n",
      " 8   Fare      892 non-null    object\n",
      " 9   Cabin     207 non-null    object\n",
      " 10  Embarked  890 non-null    object\n",
      " 11  ship      892 non-null    object\n",
      "dtypes: int64(4), object(8)\n",
      "memory usage: 90.6+ KB\n"
     ]
    }
   ],
   "source": [
    "titanic.info()"
   ]
  },
  {
   "cell_type": "markdown",
   "metadata": {},
   "source": [
    "Analizując powyższą tabelę oraz wyniki z podpunktów a i b można wyciągnąć następujące ogólne wnioski, które w dalszej części pracy będą potwierdzane lub realizowane poprzez modyfikację i czyszczenie danych:\n",
    "* Kolumna `Survived` zawiera wartości liczbowe i nie ma brakujących wartości - można podejrzewać, że kolumna ta powinna zawierać 2 wartości:\n",
    "    * 0 - oznaczająca śmierć pasażera\n",
    "    * 1 - oznaczająca przeżycie pasażera\n",
    "* Kolumna `PClass` zawiera liczby całkowite i nie ma brakujących wartości - można podejrzewać, że będzie docelowo zawierała wartości 1, 2 i 3 - oznaczające numer klasy\n",
    "* Kolumna `Sex` nie ma brakujących wartości - należy doprowadzić do sytuacji, w której będzie zawierała wartości \"female\" oraz \"male\"\n",
    "* W przypadku kolumny `Embarked` brakuje 2 wartości, kolumny `Age` - 173 wartości, kolumny `Cabin` - aż 685 wartości, co stanowi blisko 80% brakujących danych w kolumnie. Pozostałe kolumny mają uzupełnione wszystkie wartości.\n",
    "* Kolumny `Age` oraz `Fare` zostały niepoprawnie odczytane jako ogólny typ `object` - prawdopodobnie z powodu błędów we wprowadzonych danych nie wszystkie wartości zostały poprawnie zinterpretowane jako liczby\n",
    "* Kolumna `ship` zawiera 892 informacje o statku - ze względu na charakter analizowanego zbioru prawdopodobnie zawiera jedną unikalną wartość `Titanic`"
   ]
  },
  {
   "cell_type": "markdown",
   "metadata": {},
   "source": [
    "## 5. Analiza kolumny `ship`\n",
    "Pierwszą szczegółowo analizowaną i modyfikowaną kolumną jest kolumna `ship` oznaczająca nazwę statku. Wiemy już, że nie posiada ona brakujących wartości. Przeanalizujmy, jakie wartości w niej występują:\n"
   ]
  },
  {
   "cell_type": "code",
   "execution_count": 281,
   "metadata": {},
   "outputs": [
    {
     "data": {
      "text/plain": [
       "array(['Titanic'], dtype=object)"
      ]
     },
     "execution_count": 281,
     "metadata": {},
     "output_type": "execute_result"
    }
   ],
   "source": [
    "titanic[\"ship\"].unique()"
   ]
  },
  {
   "cell_type": "markdown",
   "metadata": {},
   "source": [
    "Ze zwróconej tablicy wynika, że w kolumnie znajduje się tylko jedna wartość - Titanic. Jest to uzasadnione faktem, że zbiór danych dotyczy pasażerów jednego statku - Titanica. W związku z tym kolumna ta nie będzie użyteczna w dalszych rozważaniach i analizie danych - można ją usunąć:"
   ]
  },
  {
   "cell_type": "code",
   "execution_count": 282,
   "metadata": {},
   "outputs": [
    {
     "data": {
      "text/html": [
       "<div>\n",
       "<style scoped>\n",
       "    .dataframe tbody tr th:only-of-type {\n",
       "        vertical-align: middle;\n",
       "    }\n",
       "\n",
       "    .dataframe tbody tr th {\n",
       "        vertical-align: top;\n",
       "    }\n",
       "\n",
       "    .dataframe thead th {\n",
       "        text-align: right;\n",
       "    }\n",
       "</style>\n",
       "<table border=\"1\" class=\"dataframe\">\n",
       "  <thead>\n",
       "    <tr style=\"text-align: right;\">\n",
       "      <th></th>\n",
       "      <th>Survived</th>\n",
       "      <th>Pclass</th>\n",
       "      <th>Name</th>\n",
       "      <th>Sex</th>\n",
       "      <th>Age</th>\n",
       "      <th>SibSp</th>\n",
       "      <th>Parch</th>\n",
       "      <th>Ticket</th>\n",
       "      <th>Fare</th>\n",
       "      <th>Cabin</th>\n",
       "      <th>Embarked</th>\n",
       "    </tr>\n",
       "    <tr>\n",
       "      <th>PassengerId</th>\n",
       "      <th></th>\n",
       "      <th></th>\n",
       "      <th></th>\n",
       "      <th></th>\n",
       "      <th></th>\n",
       "      <th></th>\n",
       "      <th></th>\n",
       "      <th></th>\n",
       "      <th></th>\n",
       "      <th></th>\n",
       "      <th></th>\n",
       "    </tr>\n",
       "  </thead>\n",
       "  <tbody>\n",
       "    <tr>\n",
       "      <th>1</th>\n",
       "      <td>0</td>\n",
       "      <td>3</td>\n",
       "      <td>Braund, Mr. Owen Harris</td>\n",
       "      <td>male</td>\n",
       "      <td>22</td>\n",
       "      <td>1</td>\n",
       "      <td>0</td>\n",
       "      <td>A/5 21171</td>\n",
       "      <td>7,25</td>\n",
       "      <td>NaN</td>\n",
       "      <td>S</td>\n",
       "    </tr>\n",
       "    <tr>\n",
       "      <th>2</th>\n",
       "      <td>1</td>\n",
       "      <td>1</td>\n",
       "      <td>Cumings, Mrs. John Bradley (Florence Briggs Th...</td>\n",
       "      <td>female</td>\n",
       "      <td>38</td>\n",
       "      <td>1</td>\n",
       "      <td>0</td>\n",
       "      <td>PC 17599</td>\n",
       "      <td>71,2833</td>\n",
       "      <td>C85</td>\n",
       "      <td>C</td>\n",
       "    </tr>\n",
       "    <tr>\n",
       "      <th>3</th>\n",
       "      <td>1</td>\n",
       "      <td>3</td>\n",
       "      <td>Heikkinen, Miss. Laina</td>\n",
       "      <td>female</td>\n",
       "      <td>26</td>\n",
       "      <td>0</td>\n",
       "      <td>0</td>\n",
       "      <td>STON/O2. 3101282</td>\n",
       "      <td>7,925</td>\n",
       "      <td>NaN</td>\n",
       "      <td>S</td>\n",
       "    </tr>\n",
       "    <tr>\n",
       "      <th>4</th>\n",
       "      <td>1</td>\n",
       "      <td>1</td>\n",
       "      <td>Futrelle, Mrs. Jacques Heath (Lily May Peel)</td>\n",
       "      <td>female</td>\n",
       "      <td>35</td>\n",
       "      <td>1</td>\n",
       "      <td>0</td>\n",
       "      <td>113803</td>\n",
       "      <td>53,1</td>\n",
       "      <td>C123</td>\n",
       "      <td>S</td>\n",
       "    </tr>\n",
       "    <tr>\n",
       "      <th>5</th>\n",
       "      <td>0</td>\n",
       "      <td>3</td>\n",
       "      <td>Allen, Mr. William Henry</td>\n",
       "      <td>male</td>\n",
       "      <td>35</td>\n",
       "      <td>0</td>\n",
       "      <td>0</td>\n",
       "      <td>373450</td>\n",
       "      <td>8,05</td>\n",
       "      <td>NaN</td>\n",
       "      <td>S</td>\n",
       "    </tr>\n",
       "    <tr>\n",
       "      <th>6</th>\n",
       "      <td>0</td>\n",
       "      <td>3</td>\n",
       "      <td>Moran, Mr. James</td>\n",
       "      <td>male</td>\n",
       "      <td>NaN</td>\n",
       "      <td>0</td>\n",
       "      <td>0</td>\n",
       "      <td>330877</td>\n",
       "      <td>8,4583</td>\n",
       "      <td>NaN</td>\n",
       "      <td>Q</td>\n",
       "    </tr>\n",
       "    <tr>\n",
       "      <th>7</th>\n",
       "      <td>0</td>\n",
       "      <td>1</td>\n",
       "      <td>McCarthy, Mr. Timothy J</td>\n",
       "      <td>male</td>\n",
       "      <td>54</td>\n",
       "      <td>0</td>\n",
       "      <td>0</td>\n",
       "      <td>17463</td>\n",
       "      <td>51,8625</td>\n",
       "      <td>E46</td>\n",
       "      <td>S</td>\n",
       "    </tr>\n",
       "    <tr>\n",
       "      <th>8</th>\n",
       "      <td>0</td>\n",
       "      <td>3</td>\n",
       "      <td>Palsson, Master. Gosta Leonard</td>\n",
       "      <td>male</td>\n",
       "      <td>2</td>\n",
       "      <td>3</td>\n",
       "      <td>1</td>\n",
       "      <td>349909</td>\n",
       "      <td>21,075</td>\n",
       "      <td>NaN</td>\n",
       "      <td>S</td>\n",
       "    </tr>\n",
       "    <tr>\n",
       "      <th>9</th>\n",
       "      <td>1</td>\n",
       "      <td>3</td>\n",
       "      <td>Johnson, Mrs. Oscar W (Elisabeth Vilhelmina Berg)</td>\n",
       "      <td>female</td>\n",
       "      <td>27</td>\n",
       "      <td>0</td>\n",
       "      <td>2</td>\n",
       "      <td>347742</td>\n",
       "      <td>11,1333</td>\n",
       "      <td>NaN</td>\n",
       "      <td>S</td>\n",
       "    </tr>\n",
       "    <tr>\n",
       "      <th>10</th>\n",
       "      <td>1</td>\n",
       "      <td>2</td>\n",
       "      <td>Nasser, Mrs. Nicholas (Adele Achem)</td>\n",
       "      <td>female</td>\n",
       "      <td>14</td>\n",
       "      <td>1</td>\n",
       "      <td>0</td>\n",
       "      <td>237736</td>\n",
       "      <td>30,0708</td>\n",
       "      <td>NaN</td>\n",
       "      <td>C</td>\n",
       "    </tr>\n",
       "  </tbody>\n",
       "</table>\n",
       "</div>"
      ],
      "text/plain": [
       "             Survived  Pclass  \\\n",
       "PassengerId                     \n",
       "1                   0       3   \n",
       "2                   1       1   \n",
       "3                   1       3   \n",
       "4                   1       1   \n",
       "5                   0       3   \n",
       "6                   0       3   \n",
       "7                   0       1   \n",
       "8                   0       3   \n",
       "9                   1       3   \n",
       "10                  1       2   \n",
       "\n",
       "                                                          Name     Sex  Age  \\\n",
       "PassengerId                                                                   \n",
       "1                                      Braund, Mr. Owen Harris    male   22   \n",
       "2            Cumings, Mrs. John Bradley (Florence Briggs Th...  female   38   \n",
       "3                                       Heikkinen, Miss. Laina  female   26   \n",
       "4                 Futrelle, Mrs. Jacques Heath (Lily May Peel)  female   35   \n",
       "5                                     Allen, Mr. William Henry    male   35   \n",
       "6                                             Moran, Mr. James    male  NaN   \n",
       "7                                      McCarthy, Mr. Timothy J    male   54   \n",
       "8                               Palsson, Master. Gosta Leonard    male    2   \n",
       "9            Johnson, Mrs. Oscar W (Elisabeth Vilhelmina Berg)  female   27   \n",
       "10                         Nasser, Mrs. Nicholas (Adele Achem)  female   14   \n",
       "\n",
       "             SibSp  Parch            Ticket     Fare Cabin Embarked  \n",
       "PassengerId                                                          \n",
       "1                1      0         A/5 21171     7,25   NaN        S  \n",
       "2                1      0          PC 17599  71,2833   C85        C  \n",
       "3                0      0  STON/O2. 3101282    7,925   NaN        S  \n",
       "4                1      0            113803     53,1  C123        S  \n",
       "5                0      0            373450     8,05   NaN        S  \n",
       "6                0      0            330877   8,4583   NaN        Q  \n",
       "7                0      0             17463  51,8625   E46        S  \n",
       "8                3      1            349909   21,075   NaN        S  \n",
       "9                0      2            347742  11,1333   NaN        S  \n",
       "10               1      0            237736  30,0708   NaN        C  "
      ]
     },
     "execution_count": 282,
     "metadata": {},
     "output_type": "execute_result"
    }
   ],
   "source": [
    "titanicOutput = titanic.drop(columns=\"ship\")\n",
    "titanicOutput.head(10)"
   ]
  },
  {
   "cell_type": "markdown",
   "metadata": {},
   "source": [
    "## 6. Analiza kolumny `Survived`\n",
    "Kolejną analizowaną kolumną jest kolumna `Survived`. Należy się przekonać, czy początkowe założenie, że w kolumnie tej znajdują się wyłącznie wartości 0 (oznaczające śmierć pasażera) oraz 1 (oznaczające przeżycie pasażera). Wyświetlmy unikalne wartości tej kolumny:"
   ]
  },
  {
   "cell_type": "code",
   "execution_count": 283,
   "metadata": {},
   "outputs": [
    {
     "data": {
      "text/plain": [
       "array([0, 1], dtype=int64)"
      ]
     },
     "execution_count": 283,
     "metadata": {},
     "output_type": "execute_result"
    }
   ],
   "source": [
    "titanic[\"Survived\"].unique()"
   ]
  },
  {
   "cell_type": "markdown",
   "metadata": {},
   "source": [
    "Początkowe założenie jest prawdziwe - kolumna jest całkowicie wypełniona poprawnymi wartościami - w związku z tym żadna ingerencja ani modyfikacje danych nie są wskazane."
   ]
  },
  {
   "cell_type": "markdown",
   "metadata": {},
   "source": [
    "## 7. Analiza kolumny `Pclass`\n",
    "Następnym krokiem analizy jest przejrzenie wartości kolumny `Pclass`. Analiza polega na sprawdzeniu, czy początkowe założenie, że w kolumnie tej znajdują się wyłącznie wartości 1, 2 oraz 3, które wskazują na numer klasy. Wyświetlmy unikalne wartości tej kolumny:"
   ]
  },
  {
   "cell_type": "code",
   "execution_count": 284,
   "metadata": {},
   "outputs": [
    {
     "data": {
      "text/plain": [
       "array([3, 1, 2], dtype=int64)"
      ]
     },
     "execution_count": 284,
     "metadata": {},
     "output_type": "execute_result"
    }
   ],
   "source": [
    "titanic[\"Pclass\"].unique()"
   ]
  },
  {
   "cell_type": "markdown",
   "metadata": {},
   "source": [
    "Wniosek był poprawny, zatem zawartość kolumny nie musi być modyfikowana."
   ]
  },
  {
   "cell_type": "markdown",
   "metadata": {},
   "source": [
    "## 8. Analiza kolumny `Cabin`\n",
    "Następną analizowaną kolumną jest kolumna `Cabin`. Na wstępie przypomnijmy procent pustych wartości w tej kolumnie:"
   ]
  },
  {
   "cell_type": "code",
   "execution_count": 285,
   "metadata": {},
   "outputs": [
    {
     "data": {
      "text/plain": [
       "0.7679372197309418"
      ]
     },
     "execution_count": 285,
     "metadata": {},
     "output_type": "execute_result"
    }
   ],
   "source": [
    "titanic[\"Cabin\"].isnull().sum() / titanic.shape[0]"
   ]
  },
  {
   "cell_type": "markdown",
   "metadata": {},
   "source": [
    "Brakuje blisko 80% wartości w analizowanej kolumnie, co może uniemożliwić jakiekolwiek działanie związane z tą kolumną. Wyświetlmy jednak jeszcze unikalne wartości kolumny `Cabin`:"
   ]
  },
  {
   "cell_type": "code",
   "execution_count": 286,
   "metadata": {},
   "outputs": [
    {
     "data": {
      "text/plain": [
       "array([nan, 'C85', 'C123', 'E46', 'G6', 'C103', 'D56', 'C23 C25 C27',\n",
       "       'B78', 'D33', 'B30', 'C52', 'B28', 'C83', 'F33', 'F G73', 'E31',\n",
       "       'A5', 'D10 D12', 'D26', 'C110', 'B58 B60', 'E101', 'F E69', 'D47',\n",
       "       'B86', 'F2', 'C2', 'E33', 'B19', 'A7', 'C49', 'F4', 'A32', 'B4',\n",
       "       'B80', 'A31', 'D36', 'D15', 'C93', 'C78', 'D35', 'C87', 'B77',\n",
       "       'E67', 'B94', 'C125', 'C99', 'C118', 'D7', 'A19', 'B49', 'D',\n",
       "       'C22 C26', 'C106', 'C65', 'E36', 'C54', 'B57 B59 B63 B66', 'C7',\n",
       "       'E34', 'C32', 'B18', 'C124', 'C91', 'E40', 'T', 'C128', 'D37',\n",
       "       'B35', 'E50', 'C82', 'B96 B98', 'E10', 'E44', 'A34', 'C104',\n",
       "       'C111', 'C92', 'E38', 'D21', 'E12', 'E63', 'A14', 'B37', 'C30',\n",
       "       'D20', 'B79', 'E25', 'D46', 'C95', 'B38', 'B39', 'B22', 'C86',\n",
       "       'C70', 'A16', 'C101', 'C68', 'A10', 'E68', 'B41', 'A20', 'D19',\n",
       "       'D50', 'D9', 'A23', 'B50', 'A26', 'D48', 'E58', 'C126', 'B71',\n",
       "       'B51 B53 B55', 'D49', 'B5', 'B20', 'F G63', 'C62 C64', 'E24',\n",
       "       'C90', 'C45', 'E8', 'B101', 'D45', 'C46', 'D30', 'E121', 'D11',\n",
       "       'E77', 'F38', 'B3', 'D6', 'B82 B84', 'D17', 'A36', 'B102', 'B69',\n",
       "       'E49', 'C47', 'D28', 'E17', 'A24', 'C50', 'B42', 'C148'],\n",
       "      dtype=object)"
      ]
     },
     "execution_count": 286,
     "metadata": {},
     "output_type": "execute_result"
    }
   ],
   "source": [
    "titanic[\"Cabin\"].unique()"
   ]
  },
  {
   "cell_type": "markdown",
   "metadata": {},
   "source": [
    "Ze względu na fakt, że istnieje dużo różnych wartości w tej kolumnie, a mimo to brakuje zdecydowanej większości danych, postanowiono usunąć tę kolumnę ze zbioru danych. Nie znalazłaby ona zastosowania w jakiejkolwiek dalszej analizie."
   ]
  },
  {
   "cell_type": "code",
   "execution_count": 287,
   "metadata": {},
   "outputs": [
    {
     "data": {
      "text/html": [
       "<div>\n",
       "<style scoped>\n",
       "    .dataframe tbody tr th:only-of-type {\n",
       "        vertical-align: middle;\n",
       "    }\n",
       "\n",
       "    .dataframe tbody tr th {\n",
       "        vertical-align: top;\n",
       "    }\n",
       "\n",
       "    .dataframe thead th {\n",
       "        text-align: right;\n",
       "    }\n",
       "</style>\n",
       "<table border=\"1\" class=\"dataframe\">\n",
       "  <thead>\n",
       "    <tr style=\"text-align: right;\">\n",
       "      <th></th>\n",
       "      <th>Survived</th>\n",
       "      <th>Pclass</th>\n",
       "      <th>Name</th>\n",
       "      <th>Sex</th>\n",
       "      <th>Age</th>\n",
       "      <th>SibSp</th>\n",
       "      <th>Parch</th>\n",
       "      <th>Ticket</th>\n",
       "      <th>Fare</th>\n",
       "      <th>Embarked</th>\n",
       "    </tr>\n",
       "    <tr>\n",
       "      <th>PassengerId</th>\n",
       "      <th></th>\n",
       "      <th></th>\n",
       "      <th></th>\n",
       "      <th></th>\n",
       "      <th></th>\n",
       "      <th></th>\n",
       "      <th></th>\n",
       "      <th></th>\n",
       "      <th></th>\n",
       "      <th></th>\n",
       "    </tr>\n",
       "  </thead>\n",
       "  <tbody>\n",
       "    <tr>\n",
       "      <th>1</th>\n",
       "      <td>0</td>\n",
       "      <td>3</td>\n",
       "      <td>Braund, Mr. Owen Harris</td>\n",
       "      <td>male</td>\n",
       "      <td>22</td>\n",
       "      <td>1</td>\n",
       "      <td>0</td>\n",
       "      <td>A/5 21171</td>\n",
       "      <td>7,25</td>\n",
       "      <td>S</td>\n",
       "    </tr>\n",
       "    <tr>\n",
       "      <th>2</th>\n",
       "      <td>1</td>\n",
       "      <td>1</td>\n",
       "      <td>Cumings, Mrs. John Bradley (Florence Briggs Th...</td>\n",
       "      <td>female</td>\n",
       "      <td>38</td>\n",
       "      <td>1</td>\n",
       "      <td>0</td>\n",
       "      <td>PC 17599</td>\n",
       "      <td>71,2833</td>\n",
       "      <td>C</td>\n",
       "    </tr>\n",
       "    <tr>\n",
       "      <th>3</th>\n",
       "      <td>1</td>\n",
       "      <td>3</td>\n",
       "      <td>Heikkinen, Miss. Laina</td>\n",
       "      <td>female</td>\n",
       "      <td>26</td>\n",
       "      <td>0</td>\n",
       "      <td>0</td>\n",
       "      <td>STON/O2. 3101282</td>\n",
       "      <td>7,925</td>\n",
       "      <td>S</td>\n",
       "    </tr>\n",
       "    <tr>\n",
       "      <th>4</th>\n",
       "      <td>1</td>\n",
       "      <td>1</td>\n",
       "      <td>Futrelle, Mrs. Jacques Heath (Lily May Peel)</td>\n",
       "      <td>female</td>\n",
       "      <td>35</td>\n",
       "      <td>1</td>\n",
       "      <td>0</td>\n",
       "      <td>113803</td>\n",
       "      <td>53,1</td>\n",
       "      <td>S</td>\n",
       "    </tr>\n",
       "    <tr>\n",
       "      <th>5</th>\n",
       "      <td>0</td>\n",
       "      <td>3</td>\n",
       "      <td>Allen, Mr. William Henry</td>\n",
       "      <td>male</td>\n",
       "      <td>35</td>\n",
       "      <td>0</td>\n",
       "      <td>0</td>\n",
       "      <td>373450</td>\n",
       "      <td>8,05</td>\n",
       "      <td>S</td>\n",
       "    </tr>\n",
       "    <tr>\n",
       "      <th>6</th>\n",
       "      <td>0</td>\n",
       "      <td>3</td>\n",
       "      <td>Moran, Mr. James</td>\n",
       "      <td>male</td>\n",
       "      <td>NaN</td>\n",
       "      <td>0</td>\n",
       "      <td>0</td>\n",
       "      <td>330877</td>\n",
       "      <td>8,4583</td>\n",
       "      <td>Q</td>\n",
       "    </tr>\n",
       "    <tr>\n",
       "      <th>7</th>\n",
       "      <td>0</td>\n",
       "      <td>1</td>\n",
       "      <td>McCarthy, Mr. Timothy J</td>\n",
       "      <td>male</td>\n",
       "      <td>54</td>\n",
       "      <td>0</td>\n",
       "      <td>0</td>\n",
       "      <td>17463</td>\n",
       "      <td>51,8625</td>\n",
       "      <td>S</td>\n",
       "    </tr>\n",
       "    <tr>\n",
       "      <th>8</th>\n",
       "      <td>0</td>\n",
       "      <td>3</td>\n",
       "      <td>Palsson, Master. Gosta Leonard</td>\n",
       "      <td>male</td>\n",
       "      <td>2</td>\n",
       "      <td>3</td>\n",
       "      <td>1</td>\n",
       "      <td>349909</td>\n",
       "      <td>21,075</td>\n",
       "      <td>S</td>\n",
       "    </tr>\n",
       "    <tr>\n",
       "      <th>9</th>\n",
       "      <td>1</td>\n",
       "      <td>3</td>\n",
       "      <td>Johnson, Mrs. Oscar W (Elisabeth Vilhelmina Berg)</td>\n",
       "      <td>female</td>\n",
       "      <td>27</td>\n",
       "      <td>0</td>\n",
       "      <td>2</td>\n",
       "      <td>347742</td>\n",
       "      <td>11,1333</td>\n",
       "      <td>S</td>\n",
       "    </tr>\n",
       "    <tr>\n",
       "      <th>10</th>\n",
       "      <td>1</td>\n",
       "      <td>2</td>\n",
       "      <td>Nasser, Mrs. Nicholas (Adele Achem)</td>\n",
       "      <td>female</td>\n",
       "      <td>14</td>\n",
       "      <td>1</td>\n",
       "      <td>0</td>\n",
       "      <td>237736</td>\n",
       "      <td>30,0708</td>\n",
       "      <td>C</td>\n",
       "    </tr>\n",
       "  </tbody>\n",
       "</table>\n",
       "</div>"
      ],
      "text/plain": [
       "             Survived  Pclass  \\\n",
       "PassengerId                     \n",
       "1                   0       3   \n",
       "2                   1       1   \n",
       "3                   1       3   \n",
       "4                   1       1   \n",
       "5                   0       3   \n",
       "6                   0       3   \n",
       "7                   0       1   \n",
       "8                   0       3   \n",
       "9                   1       3   \n",
       "10                  1       2   \n",
       "\n",
       "                                                          Name     Sex  Age  \\\n",
       "PassengerId                                                                   \n",
       "1                                      Braund, Mr. Owen Harris    male   22   \n",
       "2            Cumings, Mrs. John Bradley (Florence Briggs Th...  female   38   \n",
       "3                                       Heikkinen, Miss. Laina  female   26   \n",
       "4                 Futrelle, Mrs. Jacques Heath (Lily May Peel)  female   35   \n",
       "5                                     Allen, Mr. William Henry    male   35   \n",
       "6                                             Moran, Mr. James    male  NaN   \n",
       "7                                      McCarthy, Mr. Timothy J    male   54   \n",
       "8                               Palsson, Master. Gosta Leonard    male    2   \n",
       "9            Johnson, Mrs. Oscar W (Elisabeth Vilhelmina Berg)  female   27   \n",
       "10                         Nasser, Mrs. Nicholas (Adele Achem)  female   14   \n",
       "\n",
       "             SibSp  Parch            Ticket     Fare Embarked  \n",
       "PassengerId                                                    \n",
       "1                1      0         A/5 21171     7,25        S  \n",
       "2                1      0          PC 17599  71,2833        C  \n",
       "3                0      0  STON/O2. 3101282    7,925        S  \n",
       "4                1      0            113803     53,1        S  \n",
       "5                0      0            373450     8,05        S  \n",
       "6                0      0            330877   8,4583        Q  \n",
       "7                0      0             17463  51,8625        S  \n",
       "8                3      1            349909   21,075        S  \n",
       "9                0      2            347742  11,1333        S  \n",
       "10               1      0            237736  30,0708        C  "
      ]
     },
     "execution_count": 287,
     "metadata": {},
     "output_type": "execute_result"
    }
   ],
   "source": [
    "titanicOutput = titanicOutput.drop(columns=\"Cabin\")\n",
    "titanicOutput.head(10)"
   ]
  },
  {
   "cell_type": "markdown",
   "metadata": {},
   "source": [
    "## 9. Analiza kolumny `Sex`\n",
    "Zgodnie z początkową analizą tej kolumny, powinny znajdować się w niej wartości wyłącznie `male` oraz `female`. Sprawdźmy zatem, czy tak jest:"
   ]
  },
  {
   "cell_type": "code",
   "execution_count": 288,
   "metadata": {},
   "outputs": [
    {
     "data": {
      "text/plain": [
       "array(['male', 'female', 'malef', 'mal', 'fem', 'femmale'], dtype=object)"
      ]
     },
     "execution_count": 288,
     "metadata": {},
     "output_type": "execute_result"
    }
   ],
   "source": [
    "titanic[\"Sex\"].unique()"
   ]
  },
  {
   "cell_type": "markdown",
   "metadata": {},
   "source": [
    "Okazało się, że poza przewidywanymi wartościami w kolumnie znajdują się również 4 inne. Ich analiza pozwala przypuszczać, że powstały one w wyniku literówek lub skrótów stosowanych przez osoby wprowadzające dane. W związku z tym w celu przygotowania kolumny do analizy poprawiono błędne wartości ich poprawnymi odpowiednikami (`malef`, `mal` poprawiono na `male`; `fem` oraz `femmale` zmieniono na `female`)"
   ]
  },
  {
   "cell_type": "code",
   "execution_count": 289,
   "metadata": {},
   "outputs": [
    {
     "data": {
      "text/plain": [
       "array(['male', 'female'], dtype=object)"
      ]
     },
     "execution_count": 289,
     "metadata": {},
     "output_type": "execute_result"
    }
   ],
   "source": [
    "titanicOutput[\"Sex\"] = titanicOutput[\"Sex\"].replace([\"malef\",\"mal\"],\"male\")\n",
    "titanicOutput[\"Sex\"] = titanicOutput[\"Sex\"].replace([\"fem\",\"femmale\"],\"female\")\n",
    "titanicOutput[\"Sex\"].unique()"
   ]
  },
  {
   "cell_type": "markdown",
   "metadata": {},
   "source": [
    "Po wykonaniu powyższych instrukcji wszystkie dane w kolumnie `Sex` są już poprawne, co kończy analizę tej kolumny."
   ]
  },
  {
   "cell_type": "markdown",
   "metadata": {},
   "source": [
    "## 10. Analiza kolumny `Embarked`\n",
    "Analizę kolumny `Embarked` rozpoczęto od przypomnienia liczby brakujących wartości oraz wyświetlenia unikalnych wartości w ramach tej kolumny"
   ]
  },
  {
   "cell_type": "code",
   "execution_count": 290,
   "metadata": {},
   "outputs": [
    {
     "data": {
      "text/plain": [
       "2"
      ]
     },
     "execution_count": 290,
     "metadata": {},
     "output_type": "execute_result"
    }
   ],
   "source": [
    "titanic[\"Embarked\"].isnull().sum()"
   ]
  },
  {
   "cell_type": "code",
   "execution_count": 291,
   "metadata": {},
   "outputs": [
    {
     "data": {
      "text/plain": [
       "array(['S', 'C', 'Q', 'So', nan, 'Co', 'Qe'], dtype=object)"
      ]
     },
     "execution_count": 291,
     "metadata": {},
     "output_type": "execute_result"
    }
   ],
   "source": [
    "titanic[\"Embarked\"].unique()"
   ]
  },
  {
   "cell_type": "markdown",
   "metadata": {},
   "source": [
    "Po analizie zwróconych danych można podejrzewać, że wartości `So`, `Co` oraz `Qe` powstały w wyniku pomyłki. Można się o tym przekonać sprawdzając, jak często one występowały:"
   ]
  },
  {
   "cell_type": "code",
   "execution_count": 292,
   "metadata": {},
   "outputs": [
    {
     "data": {
      "text/plain": [
       "S     643\n",
       "C     167\n",
       "Q      76\n",
       "So      2\n",
       "Co      1\n",
       "Qe      1\n",
       "Name: Embarked, dtype: int64"
      ]
     },
     "execution_count": 292,
     "metadata": {},
     "output_type": "execute_result"
    }
   ],
   "source": [
    "titanic[\"Embarked\"].value_counts()"
   ]
  },
  {
   "cell_type": "markdown",
   "metadata": {},
   "source": [
    "Powyższa teza została potwierdzona, w związku z tym można dokonać odpowiednich poprawek (`So` zostanie zmienione na `S`, `Co` na `C`, `Qe` na `Q`)."
   ]
  },
  {
   "cell_type": "code",
   "execution_count": 293,
   "metadata": {},
   "outputs": [
    {
     "data": {
      "text/plain": [
       "array(['S', 'C', 'Q', nan], dtype=object)"
      ]
     },
     "execution_count": 293,
     "metadata": {},
     "output_type": "execute_result"
    }
   ],
   "source": [
    "titanicOutput[\"Embarked\"] = titanicOutput[\"Embarked\"].replace(\"So\", \"S\")\n",
    "titanicOutput[\"Embarked\"] = titanicOutput[\"Embarked\"].replace(\"Co\", \"C\")\n",
    "titanicOutput[\"Embarked\"] = titanicOutput[\"Embarked\"].replace(\"Qe\", \"Q\")\n",
    "titanicOutput[\"Embarked\"].unique()"
   ]
  },
  {
   "cell_type": "markdown",
   "metadata": {},
   "source": [
    "Ze względu na fakt, że brakuje zaledwie dwóch wartości, można podjąć próbę ich wypełnienia. Ze względu na typ wartości (łańcuchy znaków) nie można wykorzystać matematycznego sposobu uzupełnienia wartości, ale biorąc pod uwagę fakt, że brakuje ok. 0.002% wartości uzupełnienie ich wartościami losowymi nie będzie miało znaczenia dla analizy."
   ]
  },
  {
   "cell_type": "code",
   "execution_count": 294,
   "metadata": {},
   "outputs": [],
   "source": [
    "import random\n",
    "embarkedValues = [x for x in titanicOutput[\"Embarked\"].unique() if pd.notnull(x)]\n",
    "titanicOutput[\"Embarked\"] = titanicOutput[\"Embarked\"].fillna(random.choice(embarkedValues))"
   ]
  },
  {
   "cell_type": "markdown",
   "metadata": {},
   "source": [
    "Usunięto pomyłki oraz wypełniono brakujące wartości, na czym kończy się analiza omawianej kolumny."
   ]
  },
  {
   "cell_type": "markdown",
   "metadata": {},
   "source": [
    "## 11. Analiza kolumny `Age`\n",
    "Kolumna `Age` została odczytana jako typ `Object`, co jest niepokojącą oznaką. Przeanalizujmy wartości znajdujące się w tej kolumnie i postarajmy się doprowadzić do sytuacji, w której będzie możliwe zmienienie typu wartości na typ przechowujący liczby rzeczywiste (`float64`)."
   ]
  },
  {
   "cell_type": "code",
   "execution_count": 295,
   "metadata": {},
   "outputs": [
    {
     "data": {
      "text/plain": [
       "array(['22', '38', '26', '35', nan, '54', '2', '27', '14', '4', '58',\n",
       "       '20', '55', '31', '34', '15', '8', '19', '40', '.9', '66', '28',\n",
       "       '42', '21', '18', '3', '7', '49', '29', '65', '28,5', '5', '11',\n",
       "       '45', '17', '32', '16', '25', '0,83', '30', '33', '23', '24', '46',\n",
       "       '59', '71', '37', '47', '14,5', '70,5', '32,5', '12', '9', '36,5',\n",
       "       '51', '55,5', '40,5', '44', '1', '61', '56', '50', '36', '45,5',\n",
       "       '4435', '20,5', '62', '41', '52', '63', '23,5', '0,92', '43', '60',\n",
       "       '39', '10', '64', '13', '48', '0,75', '-3', '-12', '53', '57',\n",
       "       '80', '250', '70', '24,5', '6', '0,67', '30,5', '0,42', '34,5',\n",
       "       '74'], dtype=object)"
      ]
     },
     "execution_count": 295,
     "metadata": {},
     "output_type": "execute_result"
    }
   ],
   "source": [
    "titanic[\"Age\"].unique()"
   ]
  },
  {
   "cell_type": "markdown",
   "metadata": {},
   "source": [
    "Pobieżna analiza powyższej tablicy wykazuje różne błędy zawarte w wartościach tej kolumny:\n",
    "* występują wartości błędne np. .9 - brak możliwości ustalenia, czy chodziło o 9 czy 0.9\n",
    "* występują wartości niemożliwe np. -12, -3, 250, 44435  \n",
    "\n",
    "Ciężko analizować każdą pojedynczą wartość oddzielnie, a ustalenie poprawnej wartości w w/w przypadkach nie jest możliwe, dlatego postanowiono zastąpić wartości błędne oraz nienależące do przedziału [0,130] wartością `nan`"
   ]
  },
  {
   "cell_type": "code",
   "execution_count": 296,
   "metadata": {},
   "outputs": [
    {
     "data": {
      "text/plain": [
       "array([22.0, 38.0, 26.0, 35.0, nan, 54.0, 2.0, 27.0, 14.0, 4.0, 58.0,\n",
       "       20.0, 55.0, 31.0, 34.0, 15.0, 8.0, 19.0, 40.0, 0.9, 66.0, 28.0,\n",
       "       42.0, 21.0, 18.0, 3.0, 7.0, 49.0, 29.0, 65.0, 5.0, 11.0, 45.0,\n",
       "       17.0, 32.0, 16.0, 25.0, 30.0, 33.0, 23.0, 24.0, 46.0, 59.0, 71.0,\n",
       "       37.0, 47.0, 12.0, 9.0, 51.0, 44.0, 1.0, 61.0, 56.0, 50.0, 36.0,\n",
       "       62.0, 41.0, 52.0, 63.0, 43.0, 60.0, 39.0, 10.0, 64.0, 13.0, 48.0,\n",
       "       53.0, 57.0, 80.0, 70.0, 6.0, 74.0], dtype=object)"
      ]
     },
     "execution_count": 296,
     "metadata": {},
     "output_type": "execute_result"
    }
   ],
   "source": [
    "for i, row in titanicOutput.iterrows():\n",
    "    try:\n",
    "        if float(row[\"Age\"]) < 0 or float(row[\"Age\"]) > 130:\n",
    "            titanicOutput.at[i, \"Age\"] = np.NaN\n",
    "        else:\n",
    "            titanicOutput.at[i, \"Age\"] = float(row[\"Age\"])\n",
    "    except ValueError:\n",
    "        titanicOutput.at[i, \"Age\"] = np.NaN\n",
    "\n",
    "titanicOutput[\"Age\"].unique()"
   ]
  },
  {
   "cell_type": "markdown",
   "metadata": {},
   "source": [
    "W chwili obecnej wszystkie wartości tej kolumny są już wartościami liczbowymi, więc należy zmienić typ danych na `float64`. "
   ]
  },
  {
   "cell_type": "code",
   "execution_count": 297,
   "metadata": {},
   "outputs": [],
   "source": [
    "titanicOutput[[\"Age\"]] = titanicOutput[[\"Age\"]].astype(float)"
   ]
  },
  {
   "cell_type": "markdown",
   "metadata": {},
   "source": [
    "Po konwersji typów w chwili obecnej można wyświetlić podstawowe statystyki (m.in. wartość minimalną, maksymalną, średnią, kwartyle) związane z kolumną:"
   ]
  },
  {
   "cell_type": "code",
   "execution_count": 298,
   "metadata": {},
   "outputs": [
    {
     "data": {
      "text/plain": [
       "count    690.000000\n",
       "mean      29.743333\n",
       "std       14.412508\n",
       "min        0.900000\n",
       "25%       20.000000\n",
       "50%       28.000000\n",
       "75%       38.000000\n",
       "max       80.000000\n",
       "Name: Age, dtype: float64"
      ]
     },
     "execution_count": 298,
     "metadata": {},
     "output_type": "execute_result"
    }
   ],
   "source": [
    "titanicOutput[\"Age\"].describe()"
   ]
  },
  {
   "cell_type": "markdown",
   "metadata": {},
   "source": [
    "Można wyróżnić wiele sposobów uzupełniania brakujących wartości w kolumnach. Jednym z nich jest wypełnianie ich średnią istniejących wartości. Wartość średnia w kolumnie wynosi ok. 30 i tą wartością uzupełniono brakujące pola w analizowanej kolumnie. Na tym analizę zakończono."
   ]
  },
  {
   "cell_type": "code",
   "execution_count": 299,
   "metadata": {},
   "outputs": [],
   "source": [
    "titanicOutput[\"Age\"] = titanicOutput[\"Age\"].fillna(round(titanicOutput[\"Age\"].mean()))"
   ]
  },
  {
   "cell_type": "markdown",
   "metadata": {},
   "source": [
    "## 12. Analiza kolumny `Fare`\n",
    "Kolumna `Fare`, podobnie jak kolumna `Age` została zinterpretowana jako typ `object`, co nie jest wskazaną sytuacją. Przeanalizujmy występujące w niej wartości."
   ]
  },
  {
   "cell_type": "code",
   "execution_count": 300,
   "metadata": {},
   "outputs": [
    {
     "data": {
      "text/plain": [
       "array(['7,25', '71,2833', '7,925', '53,1', '8,05', '8,4583', '51,8625',\n",
       "       '21,075', '11,1333', '30,0708', '16,7', '26,55', '7,8542', '16',\n",
       "       '29,125', '13', '18', '7,225', '26', '8,0292', '31,3875', '263',\n",
       "       '7,8792', '7,8958', '27,7208', '146,5208', '7,75', '10,5',\n",
       "       '82,1708', '52', '7,2292', '11,2417', '9,475', '21', '41,5792',\n",
       "       '15,5', '21,6792', '17,8', '39,6875', '7,8', '76,7292', '61,9792',\n",
       "       '35,5', '27,75', '46,9', '80', '83,475', '27,9', '15,2458',\n",
       "       '8,1583', '8,6625', '73,5', '14,4542', '56,4958', '7,65', '29',\n",
       "       '12,475', '9', '9,5', '7,7875', '47,1', '15,85', '34,375',\n",
       "       '61,175', '20,575', '34,6542', '63,3583', '23', '77,2875',\n",
       "       '8,6542', '7,775', '24,15', '9,825', '14,4583', '247,5208',\n",
       "       '31,275', '7,1417', '22,3583', '6,975', '7,05', '14,5', '15,0458',\n",
       "       '26,2833', '9,2167', '79,2', '6,75', '11,5', '36,75', '7,7958',\n",
       "       '12,525', '66,6', '7,3125', '61,3792', '7,7333', '69,55', '16,1',\n",
       "       '15,75', '20,525', '55', '25,925', '33,5', '30,6958', '25,4667',\n",
       "       '28,7125', '0', '15,05', '39', '22,025', '50', '8,4042', '6,4958',\n",
       "       '10,4625', '18,7875', '31', '113,275', '27', '76,2917', '90',\n",
       "       '9,35', '13,5', '7,55', '26,25', '12,275', '7,125', '-90',\n",
       "       '52,5542', '20,2125', '86,5', '512,3292', '79,65', '153,4625',\n",
       "       '135,6333', '19,5', '29,7', '77,9583', '20,25', '78,85', '91,0792',\n",
       "       '12,875', '8,85', '151,55', '30,5', '23,25', '12,35', '110,8833',\n",
       "       '108,9', '24', '56,9292', '83,1583', '262,375', '14', '164,8667',\n",
       "       '134,5', '6,2375', '57,9792', '28,5', '133,65', '15,9', '9,225',\n",
       "       '35', '75,25', '69,3', '55,4417', '211,5', '4,0125', '227,525',\n",
       "       '15,7417', '7,7292', '12', '120', '12,65', '18,75', '6,8583',\n",
       "       '32,5', '7,875', '14,4', '55,9', '8,1125', '81,8583', '19,2583',\n",
       "       '19,9667', '89,1042', '38,5', '7,725', '13,7917', '9,8375',\n",
       "       '7,0458', '7,5208', '12,2875', '9,5875', '15,9a', '49,5042',\n",
       "       '78,2667', '15,1', '7,6292', '22,525', '26,2875', '59,4', '7,4958',\n",
       "       '34,0208', '221,7792', '106,425', '49,5', '71', '13,8625',\n",
       "       '7,8292', '39,6', '17,4', '51,4792', '26,3875', '30', '40,125',\n",
       "       '8,7125', '15', '33', '42,4', '15,55', '65', '32,3208', '7,0542',\n",
       "       '8,4333', '25,5875', '9,8417', '8,1375', '10,1708', '211,3375',\n",
       "       '57', '13,4167', '7,7417', '9,4833', '7,7375', '8,3625', '23,45',\n",
       "       '25,9292', '8,6833', '8,5167', '7,8875', '37,0042', '6,45', '93,5',\n",
       "       '6,95', '8,3', '6,4375', '39,4', '14,1083', '13,8583', '50,4958',\n",
       "       '5', '9,8458', '10,5167'], dtype=object)"
      ]
     },
     "execution_count": 300,
     "metadata": {},
     "output_type": "execute_result"
    }
   ],
   "source": [
    "titanic[\"Fare\"].unique()"
   ]
  },
  {
   "cell_type": "markdown",
   "metadata": {},
   "source": [
    "Ponownie mamy do czynienia z wartościami niemożliwymi (-90, 0) - zastąpmy je oraz ew. błędne elementy wartością `nan`. Dodatkowym problemem występującym wśród zawartości tej kolumny jest liczba miejsc po przecinku - waluty powinny mieć zawsze 2 miejsca po przecinku. Dostosowano wartości i zmieniono typ danych na liczby rzeczywiste."
   ]
  },
  {
   "cell_type": "code",
   "execution_count": 301,
   "metadata": {},
   "outputs": [
    {
     "data": {
      "text/plain": [
       "array([  7.25,  71.28,   7.92,  53.1 ,   8.05,   8.46,  51.86,  21.08,\n",
       "        11.13,  30.07,  16.7 ,  26.55,   7.85,  16.  ,  29.12,  13.  ,\n",
       "        18.  ,   7.22,  26.  ,   8.03,  31.39, 263.  ,   7.88,   7.9 ,\n",
       "        27.72, 146.52,   7.75,  10.5 ,  82.17,  52.  ,   7.23,  11.24,\n",
       "         9.48,  21.  ,  41.58,  15.5 ,  21.68,  17.8 ,  39.69,   7.8 ,\n",
       "        76.73,  61.98,  35.5 ,  27.75,  46.9 ,  80.  ,  83.48,  27.9 ,\n",
       "        15.25,   8.16,   8.66,  73.5 ,  14.45,  56.5 ,   7.65,  29.  ,\n",
       "        12.48,   9.  ,   9.5 ,   7.79,  47.1 ,  15.85,  34.38,  61.18,\n",
       "        20.58,  34.65,  63.36,  23.  ,  77.29,   8.65,   7.78,  24.15,\n",
       "         9.82,  14.46, 247.52,  31.28,   7.14,  22.36,   6.98,   7.05,\n",
       "        14.5 ,  15.05,  26.28,   9.22,  79.2 ,   6.75,  11.5 ,  36.75,\n",
       "        12.52,  66.6 ,   7.31,  61.38,   7.73,  69.55,  16.1 ,  15.75,\n",
       "        20.52,  55.  ,  25.92,  33.5 ,  30.7 ,  25.47,  28.71,    nan,\n",
       "        39.  ,  22.02,  50.  ,   8.4 ,   6.5 ,  10.46,  18.79,  31.  ,\n",
       "       113.28,  27.  ,  76.29,  90.  ,   9.35,  13.5 ,   7.55,  26.25,\n",
       "        12.28,   7.12,  52.55,  20.21,  86.5 , 512.33,  79.65, 153.46,\n",
       "       135.63,  19.5 ,  29.7 ,  77.96,  20.25,  78.85,  91.08,  12.88,\n",
       "         8.85, 151.55,  30.5 ,  23.25,  12.35, 110.88, 108.9 ,  24.  ,\n",
       "        56.93,  83.16, 262.38,  14.  , 164.87, 134.5 ,   6.24,  57.98,\n",
       "        28.5 , 133.65,  15.9 ,  35.  ,  75.25,  69.3 ,  55.44, 211.5 ,\n",
       "         4.01, 227.52,  15.74,  12.  , 120.  ,  12.65,  18.75,   6.86,\n",
       "        32.5 ,  14.4 ,  55.9 ,   8.11,  81.86,  19.26,  19.97,  89.1 ,\n",
       "        38.5 ,   7.72,  13.79,   9.84,   7.52,  12.29,   9.59,  49.5 ,\n",
       "        78.27,  15.1 ,   7.63,  22.52,  26.29,  59.4 ,   7.5 ,  34.02,\n",
       "       221.78, 106.42,  71.  ,  13.86,   7.83,  39.6 ,  17.4 ,  51.48,\n",
       "        26.39,  30.  ,  40.12,   8.71,  15.  ,  33.  ,  42.4 ,  15.55,\n",
       "        65.  ,  32.32,   8.43,  25.59,   8.14,  10.17, 211.34,  57.  ,\n",
       "        13.42,   7.74,   8.36,  23.45,  25.93,   8.68,   8.52,   7.89,\n",
       "        37.  ,   6.45,  93.5 ,   6.95,   8.3 ,   6.44,  39.4 ,  14.11,\n",
       "        50.5 ,   5.  ,   9.85,  10.52])"
      ]
     },
     "execution_count": 301,
     "metadata": {},
     "output_type": "execute_result"
    }
   ],
   "source": [
    "titanicOutput[\"Fare\"] = pd.to_numeric(titanicOutput[\"Fare\"].astype(str).str.replace(',','.'), errors='coerce').round(2)\n",
    "for i, row in titanicOutput.iterrows():\n",
    "    if row[\"Fare\"] <= 0:\n",
    "            titanicOutput.at[i, \"Fare\"] = np.NaN\n",
    "\n",
    "titanicOutput[\"Fare\"].unique()"
   ]
  },
  {
   "cell_type": "markdown",
   "metadata": {},
   "source": [
    "Obliczam wartość średnią:"
   ]
  },
  {
   "cell_type": "code",
   "execution_count": 302,
   "metadata": {},
   "outputs": [
    {
     "data": {
      "text/plain": [
       "32.782182857142814"
      ]
     },
     "execution_count": 302,
     "metadata": {},
     "output_type": "execute_result"
    }
   ],
   "source": [
    "titanicOutput[\"Fare\"].mean()"
   ]
  },
  {
   "cell_type": "markdown",
   "metadata": {},
   "source": [
    "Wartość średnia w kolumnie wynosi ok. 33 i tą wartością uzupełniono brakujące pola w analizowanej kolumnie. Na tym analizę zakończono."
   ]
  },
  {
   "cell_type": "code",
   "execution_count": 303,
   "metadata": {},
   "outputs": [],
   "source": [
    "titanicOutput[\"Fare\"] = titanicOutput[\"Fare\"].fillna(round(titanicOutput[\"Fare\"].mean()))"
   ]
  },
  {
   "cell_type": "markdown",
   "metadata": {},
   "source": [
    "## 13. Analiza pozostałych kolumn\n",
    "Kolumna `Ticket` nie została zmodyfikowana ze względu na różnorodny typ danych zawarty w jej wartościach, natomiast kolumna `Name` zostanie wykorzystana jako jedna z kolumn wyłącznie w celu usunięcia duplikatów.  \n",
    "## 14. Usunięcie duplikatów\n",
    "Na zakończenie analizy postanowiono usunąć ewentualne duplikaty danych. W tym celu sprawdzono, ile ich jest na podstawie kolumn `Name` oraz `Ticket`:"
   ]
  },
  {
   "cell_type": "code",
   "execution_count": 304,
   "metadata": {},
   "outputs": [
    {
     "name": "stdout",
     "output_type": "stream",
     "text": [
      "Duplikatów: \n",
      "3\n"
     ]
    }
   ],
   "source": [
    "duplicates = filter(None, titanicOutput.duplicated(subset=[\"Name\", \"Ticket\"]))\n",
    "duplicateCount = 0\n",
    "for element in duplicates:\n",
    "    duplicateCount = duplicateCount + 1\n",
    "    \n",
    "print('Duplikatów: ')\n",
    "print(duplicateCount)"
   ]
  },
  {
   "cell_type": "markdown",
   "metadata": {},
   "source": [
    "Ze względu na fakt, że znaleziono duplikaty, postanowiono je usunąć:"
   ]
  },
  {
   "cell_type": "code",
   "execution_count": 305,
   "metadata": {},
   "outputs": [
    {
     "data": {
      "text/plain": [
       "889"
      ]
     },
     "execution_count": 305,
     "metadata": {},
     "output_type": "execute_result"
    }
   ],
   "source": [
    "titanicOutput = titanicOutput.drop_duplicates(subset=[\"Name\", \"Ticket\"])\n",
    "titanicOutput.shape[0]"
   ]
  },
  {
   "cell_type": "markdown",
   "metadata": {},
   "source": [
    "Liczba rekordów się zmniejszyła, co potwierdza poprawność wykonanej operacji."
   ]
  },
  {
   "cell_type": "markdown",
   "metadata": {},
   "source": [
    "## 15. Zapis wynikowego pliku\n",
    "Na zakończenie zapisano wynikowy plik na dysku twardym komputera."
   ]
  },
  {
   "cell_type": "code",
   "execution_count": 307,
   "metadata": {},
   "outputs": [],
   "source": [
    "titanicOutput.to_csv('TitanicCleaned.tsv', sep = '\\t')"
   ]
  },
  {
   "cell_type": "markdown",
   "metadata": {},
   "source": [
    "## 16. Podsumowanie\n",
    "Korzystając z różnych funkcji biblioteki `Pandas` przygotowano dane do analizy poprzez ich wyczyszczenie, uzupełnienie brakujących wartości oraz usunięcie wszelkich błędnych lub nadmiarowych danych. Dzięki temu analiza danych będzie możliwa i dużo prostsza niż w przypadku oryginalnego zbioru danych."
   ]
  }
 ],
 "metadata": {
  "kernelspec": {
   "display_name": "Python 3",
   "language": "python",
   "name": "python3"
  },
  "language_info": {
   "codemirror_mode": {
    "name": "ipython",
    "version": 3
   },
   "file_extension": ".py",
   "mimetype": "text/x-python",
   "name": "python",
   "nbconvert_exporter": "python",
   "pygments_lexer": "ipython3",
   "version": "3.8.5"
  }
 },
 "nbformat": 4,
 "nbformat_minor": 4
}
